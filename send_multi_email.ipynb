{
 "cells": [
  {
   "cell_type": "code",
   "execution_count": null,
   "metadata": {},
   "outputs": [
    {
     "name": "stdout",
     "output_type": "stream",
     "text": [
      "Enter the email from which you want to send email: dscappsocietyiitp@gmail.com\n",
      "Enter password: appified@1504\n",
      "Email sent to -  atm1504.in@gmail.com\n",
      "Email sent to -  hayyoulistentome@gmail.com\n",
      "Email sent to -  hayyoulistentome1@gmail.com\n",
      "Email sent to -  dscappsocietyiitp@gmail.com\n"
     ]
    }
   ],
   "source": [
    "import smtplib\n",
    "from email.mime.multipart import MIMEMultipart\n",
    "from email.mime.text import MIMEText\n",
    "import pandas\n",
    "\n",
    "\n",
    "# Enter your credentials here\n",
    "send_from = input(\"Enter the email from which you want to send email: \").rstrip()\n",
    "password=input(\"Enter password: \")\n",
    "\n",
    "def sendemail(to, sub, body):\n",
    "    msg = MIMEMultipart()\n",
    "    msg['From'] = to\n",
    "    msg['To'] = to\n",
    "    msg['Subject'] = sub\n",
    "    msg.attach(MIMEText(body, \"html\"))\n",
    "    mailserver = smtplib.SMTP('smtp.gmail.com',587)\n",
    "    mailserver.ehlo()\n",
    "    mailserver.starttls()\n",
    "    mailserver.ehlo()\n",
    "    mailserver.login(send_from, password)\n",
    "    mailserver.sendmail(to,to,msg.as_string())\n",
    "    mailserver.quit()\n",
    "\n",
    "#------------------------------------------------- Write the email in this region-----------------------------#\n",
    "\n",
    "# List of receivers\n",
    "to = [\"somenath1435@gmail.com\", \"atm1504.in@gmail.com\", \"1801me07@iitp.ac.in\"]\n",
    "# Subject of the email\n",
    "sub = \"Test email\"\n",
    "# Body of the email\n",
    "body2 = \"\"\"<h3>This is a test email. Please ignore</h3>\n",
    "<img src='https://anwesha.info/img/pronite/kk.jpg'>\n",
    " \"\"\"\n",
    "\n",
    "#---------------- Data handling part-----------------\n",
    "df = pandas.read_csv('testsheet1.csv')\n",
    "githubs=df.Github\n",
    "names=df.Name\n",
    "emails = df.Email\n",
    "\n",
    "for i in range(1,len(emails)):\n",
    "    email = str(emails[i])\n",
    "    name = str(names[i])\n",
    "    github = str(githubs[i])\n",
    "    body1=\"Hi <h4>\"+ name+ \"</h4> - <h4>\"+ github + \"</h4> we feel greatful to congratulate you for your performance in NWoC 2019.<br> \"\n",
    "    body = body1 + body2\n",
    "    # print(body)\n",
    "    try:\n",
    "        sendemail(emails[i], sub, body)\n",
    "        print(\"Email sent to - \", emails[i])\n",
    "    except Exception as e:\n",
    "        print(e, \"Failed to send email to - \" + emails[i])\n",
    "# for x in to:\n",
    "#     sendemail(x, sub, body)\n"
   ]
  },
  {
   "cell_type": "code",
   "execution_count": null,
   "metadata": {},
   "outputs": [],
   "source": []
  }
 ],
 "metadata": {
  "kernelspec": {
   "display_name": "Python 3",
   "language": "python",
   "name": "python3"
  },
  "language_info": {
   "codemirror_mode": {
    "name": "ipython",
    "version": 3
   },
   "file_extension": ".py",
   "mimetype": "text/x-python",
   "name": "python",
   "nbconvert_exporter": "python",
   "pygments_lexer": "ipython3",
   "version": "3.7.4"
  }
 },
 "nbformat": 4,
 "nbformat_minor": 2
}
